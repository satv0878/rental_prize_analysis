{
 "cells": [
  {
   "cell_type": "markdown",
   "metadata": {},
   "source": [
    "## Crisp DM Process\n",
    "1. Business Undertsanding \n",
    "2. Data Understanding\n",
    "3. Data Preparation\n",
    "4. Modeling"
   ]
  },
  {
   "cell_type": "markdown",
   "metadata": {},
   "source": [
    "# What is the business need\n",
    "\n",
    "The dataset contains data from immscout24 it container data from: 2018-09-22, 2019-05-10 and 2019-10-08. \n",
    "The data set contains most of the important properties, such as living area size, the rent, both base rent as well as total rent (if applicable), the location (street and house number, if available, ZIP code and state), type of energy etc. It also has two variables containing longer free text descriptions: description with a text describing the offer and facilities describing all available facilities, newest renovation etc. The date column was added to give the time of scraping.\n",
    "\n",
    "We want to analyze: \n",
    "Did price to rent change over time ?\n",
    "Is there a difference in the rent on different areas ?\n",
    "Does living space, number of rooms, picture count, or year contructed have a correlation with the base rent ?\n",
    "Does the latter change in different regions Hamburg, Berlin, Münich, Bavaria, Bavaria without Münich ?\n"
   ]
  },
  {
   "cell_type": "markdown",
   "metadata": {},
   "source": [
    "# Data Understanding - What data do we have / need? Is it clean?\n",
    "\n"
   ]
  },
  {
   "cell_type": "markdown",
   "metadata": {},
   "source": [
    "## Explore the Data\n",
    "\n",
    "### Prepare Data\n",
    "import librapries"
   ]
  },
  {
   "cell_type": "code",
   "execution_count": 154,
   "metadata": {},
   "outputs": [],
   "source": [
    "import pandas as pd\n",
    "import seaborn as sns\n",
    "import numpy as np\n",
    "import matplotlib.pyplot as plt\n",
    "from lib.helper import get_number_of_zero_values\n",
    "from lib.helper import get_city_or_region"
   ]
  },
  {
   "cell_type": "code",
   "execution_count": 155,
   "metadata": {},
   "outputs": [
    {
     "data": {
      "text/html": [
       "<div>\n",
       "<style scoped>\n",
       "    .dataframe tbody tr th:only-of-type {\n",
       "        vertical-align: middle;\n",
       "    }\n",
       "\n",
       "    .dataframe tbody tr th {\n",
       "        vertical-align: top;\n",
       "    }\n",
       "\n",
       "    .dataframe thead th {\n",
       "        text-align: right;\n",
       "    }\n",
       "</style>\n",
       "<table border=\"1\" class=\"dataframe\">\n",
       "  <thead>\n",
       "    <tr style=\"text-align: right;\">\n",
       "      <th></th>\n",
       "      <th>regio1</th>\n",
       "      <th>serviceCharge</th>\n",
       "      <th>heatingType</th>\n",
       "      <th>telekomTvOffer</th>\n",
       "      <th>telekomHybridUploadSpeed</th>\n",
       "      <th>newlyConst</th>\n",
       "      <th>balcony</th>\n",
       "      <th>picturecount</th>\n",
       "      <th>pricetrend</th>\n",
       "      <th>telekomUploadSpeed</th>\n",
       "      <th>totalRent</th>\n",
       "      <th>yearConstructed</th>\n",
       "      <th>scoutId</th>\n",
       "      <th>noParkSpaces</th>\n",
       "      <th>firingTypes</th>\n",
       "      <th>hasKitchen</th>\n",
       "      <th>geo_bln</th>\n",
       "      <th>cellar</th>\n",
       "      <th>yearConstructedRange</th>\n",
       "      <th>baseRent</th>\n",
       "      <th>houseNumber</th>\n",
       "      <th>livingSpace</th>\n",
       "      <th>geo_krs</th>\n",
       "      <th>condition</th>\n",
       "      <th>interiorQual</th>\n",
       "      <th>petsAllowed</th>\n",
       "      <th>street</th>\n",
       "      <th>streetPlain</th>\n",
       "      <th>lift</th>\n",
       "      <th>baseRentRange</th>\n",
       "      <th>typeOfFlat</th>\n",
       "      <th>geo_plz</th>\n",
       "      <th>noRooms</th>\n",
       "      <th>thermalChar</th>\n",
       "      <th>floor</th>\n",
       "      <th>numberOfFloors</th>\n",
       "      <th>noRoomsRange</th>\n",
       "      <th>garden</th>\n",
       "      <th>livingSpaceRange</th>\n",
       "      <th>regio2</th>\n",
       "      <th>regio3</th>\n",
       "      <th>description</th>\n",
       "      <th>facilities</th>\n",
       "      <th>heatingCosts</th>\n",
       "      <th>energyEfficiencyClass</th>\n",
       "      <th>lastRefurbish</th>\n",
       "      <th>electricityBasePrice</th>\n",
       "      <th>electricityKwhPrice</th>\n",
       "      <th>date</th>\n",
       "    </tr>\n",
       "  </thead>\n",
       "  <tbody>\n",
       "    <tr>\n",
       "      <th>0</th>\n",
       "      <td>Nordrhein_Westfalen</td>\n",
       "      <td>245.00</td>\n",
       "      <td>central_heating</td>\n",
       "      <td>ONE_YEAR_FREE</td>\n",
       "      <td>NaN</td>\n",
       "      <td>False</td>\n",
       "      <td>False</td>\n",
       "      <td>6</td>\n",
       "      <td>4.62</td>\n",
       "      <td>10.0</td>\n",
       "      <td>840.0</td>\n",
       "      <td>1965.0</td>\n",
       "      <td>96107057</td>\n",
       "      <td>1.0</td>\n",
       "      <td>oil</td>\n",
       "      <td>False</td>\n",
       "      <td>Nordrhein_Westfalen</td>\n",
       "      <td>True</td>\n",
       "      <td>2.0</td>\n",
       "      <td>595.0</td>\n",
       "      <td>244</td>\n",
       "      <td>86.00</td>\n",
       "      <td>Dortmund</td>\n",
       "      <td>well_kept</td>\n",
       "      <td>normal</td>\n",
       "      <td>NaN</td>\n",
       "      <td>Sch&amp;uuml;ruferstra&amp;szlig;e</td>\n",
       "      <td>Schüruferstraße</td>\n",
       "      <td>False</td>\n",
       "      <td>4</td>\n",
       "      <td>ground_floor</td>\n",
       "      <td>44269</td>\n",
       "      <td>4.0</td>\n",
       "      <td>181.4</td>\n",
       "      <td>1.0</td>\n",
       "      <td>3.0</td>\n",
       "      <td>4</td>\n",
       "      <td>True</td>\n",
       "      <td>4</td>\n",
       "      <td>Dortmund</td>\n",
       "      <td>Schüren</td>\n",
       "      <td>Die ebenerdig zu erreichende Erdgeschosswohnun...</td>\n",
       "      <td>Die Wohnung ist mit Laminat ausgelegt. Das Bad...</td>\n",
       "      <td>NaN</td>\n",
       "      <td>NaN</td>\n",
       "      <td>NaN</td>\n",
       "      <td>NaN</td>\n",
       "      <td>NaN</td>\n",
       "      <td>May19</td>\n",
       "    </tr>\n",
       "    <tr>\n",
       "      <th>1</th>\n",
       "      <td>Rheinland_Pfalz</td>\n",
       "      <td>134.00</td>\n",
       "      <td>self_contained_central_heating</td>\n",
       "      <td>ONE_YEAR_FREE</td>\n",
       "      <td>NaN</td>\n",
       "      <td>False</td>\n",
       "      <td>True</td>\n",
       "      <td>8</td>\n",
       "      <td>3.47</td>\n",
       "      <td>10.0</td>\n",
       "      <td>NaN</td>\n",
       "      <td>1871.0</td>\n",
       "      <td>111378734</td>\n",
       "      <td>2.0</td>\n",
       "      <td>gas</td>\n",
       "      <td>False</td>\n",
       "      <td>Rheinland_Pfalz</td>\n",
       "      <td>False</td>\n",
       "      <td>1.0</td>\n",
       "      <td>800.0</td>\n",
       "      <td>NaN</td>\n",
       "      <td>89.00</td>\n",
       "      <td>Rhein_Pfalz_Kreis</td>\n",
       "      <td>refurbished</td>\n",
       "      <td>normal</td>\n",
       "      <td>no</td>\n",
       "      <td>no_information</td>\n",
       "      <td>NaN</td>\n",
       "      <td>False</td>\n",
       "      <td>5</td>\n",
       "      <td>ground_floor</td>\n",
       "      <td>67459</td>\n",
       "      <td>3.0</td>\n",
       "      <td>NaN</td>\n",
       "      <td>NaN</td>\n",
       "      <td>NaN</td>\n",
       "      <td>3</td>\n",
       "      <td>False</td>\n",
       "      <td>4</td>\n",
       "      <td>Rhein_Pfalz_Kreis</td>\n",
       "      <td>Böhl_Iggelheim</td>\n",
       "      <td>Alles neu macht der Mai – so kann es auch für ...</td>\n",
       "      <td>NaN</td>\n",
       "      <td>NaN</td>\n",
       "      <td>NaN</td>\n",
       "      <td>2019.0</td>\n",
       "      <td>NaN</td>\n",
       "      <td>NaN</td>\n",
       "      <td>May19</td>\n",
       "    </tr>\n",
       "    <tr>\n",
       "      <th>2</th>\n",
       "      <td>Sachsen</td>\n",
       "      <td>255.00</td>\n",
       "      <td>floor_heating</td>\n",
       "      <td>ONE_YEAR_FREE</td>\n",
       "      <td>10.0</td>\n",
       "      <td>True</td>\n",
       "      <td>True</td>\n",
       "      <td>8</td>\n",
       "      <td>2.72</td>\n",
       "      <td>2.4</td>\n",
       "      <td>1300.0</td>\n",
       "      <td>2019.0</td>\n",
       "      <td>113147523</td>\n",
       "      <td>1.0</td>\n",
       "      <td>NaN</td>\n",
       "      <td>False</td>\n",
       "      <td>Sachsen</td>\n",
       "      <td>True</td>\n",
       "      <td>9.0</td>\n",
       "      <td>965.0</td>\n",
       "      <td>4</td>\n",
       "      <td>83.80</td>\n",
       "      <td>Dresden</td>\n",
       "      <td>first_time_use</td>\n",
       "      <td>sophisticated</td>\n",
       "      <td>NaN</td>\n",
       "      <td>Turnerweg</td>\n",
       "      <td>Turnerweg</td>\n",
       "      <td>True</td>\n",
       "      <td>6</td>\n",
       "      <td>apartment</td>\n",
       "      <td>1097</td>\n",
       "      <td>3.0</td>\n",
       "      <td>NaN</td>\n",
       "      <td>3.0</td>\n",
       "      <td>4.0</td>\n",
       "      <td>3</td>\n",
       "      <td>False</td>\n",
       "      <td>4</td>\n",
       "      <td>Dresden</td>\n",
       "      <td>Äußere_Neustadt_Antonstadt</td>\n",
       "      <td>Der Neubau entsteht im Herzen der Dresdner Neu...</td>\n",
       "      <td>* 9 m² Balkon\\n* Bad mit bodengleicher Dusche,...</td>\n",
       "      <td>NaN</td>\n",
       "      <td>NaN</td>\n",
       "      <td>NaN</td>\n",
       "      <td>NaN</td>\n",
       "      <td>NaN</td>\n",
       "      <td>Oct19</td>\n",
       "    </tr>\n",
       "    <tr>\n",
       "      <th>3</th>\n",
       "      <td>Sachsen</td>\n",
       "      <td>58.15</td>\n",
       "      <td>district_heating</td>\n",
       "      <td>ONE_YEAR_FREE</td>\n",
       "      <td>NaN</td>\n",
       "      <td>False</td>\n",
       "      <td>True</td>\n",
       "      <td>9</td>\n",
       "      <td>1.53</td>\n",
       "      <td>40.0</td>\n",
       "      <td>NaN</td>\n",
       "      <td>1964.0</td>\n",
       "      <td>108890903</td>\n",
       "      <td>NaN</td>\n",
       "      <td>district_heating</td>\n",
       "      <td>False</td>\n",
       "      <td>Sachsen</td>\n",
       "      <td>False</td>\n",
       "      <td>2.0</td>\n",
       "      <td>343.0</td>\n",
       "      <td>35</td>\n",
       "      <td>58.15</td>\n",
       "      <td>Mittelsachsen_Kreis</td>\n",
       "      <td>NaN</td>\n",
       "      <td>NaN</td>\n",
       "      <td>NaN</td>\n",
       "      <td>Gl&amp;uuml;ck-Auf-Stra&amp;szlig;e</td>\n",
       "      <td>Glück-Auf-Straße</td>\n",
       "      <td>False</td>\n",
       "      <td>2</td>\n",
       "      <td>other</td>\n",
       "      <td>9599</td>\n",
       "      <td>3.0</td>\n",
       "      <td>86.0</td>\n",
       "      <td>3.0</td>\n",
       "      <td>NaN</td>\n",
       "      <td>3</td>\n",
       "      <td>False</td>\n",
       "      <td>2</td>\n",
       "      <td>Mittelsachsen_Kreis</td>\n",
       "      <td>Freiberg</td>\n",
       "      <td>Abseits von Lärm und Abgasen in Ihre neue Wohn...</td>\n",
       "      <td>NaN</td>\n",
       "      <td>87.23</td>\n",
       "      <td>NaN</td>\n",
       "      <td>NaN</td>\n",
       "      <td>NaN</td>\n",
       "      <td>NaN</td>\n",
       "      <td>May19</td>\n",
       "    </tr>\n",
       "    <tr>\n",
       "      <th>4</th>\n",
       "      <td>Bremen</td>\n",
       "      <td>138.00</td>\n",
       "      <td>self_contained_central_heating</td>\n",
       "      <td>NaN</td>\n",
       "      <td>NaN</td>\n",
       "      <td>False</td>\n",
       "      <td>True</td>\n",
       "      <td>19</td>\n",
       "      <td>2.46</td>\n",
       "      <td>NaN</td>\n",
       "      <td>903.0</td>\n",
       "      <td>1950.0</td>\n",
       "      <td>114751222</td>\n",
       "      <td>NaN</td>\n",
       "      <td>gas</td>\n",
       "      <td>False</td>\n",
       "      <td>Bremen</td>\n",
       "      <td>False</td>\n",
       "      <td>1.0</td>\n",
       "      <td>765.0</td>\n",
       "      <td>10</td>\n",
       "      <td>84.97</td>\n",
       "      <td>Bremen</td>\n",
       "      <td>refurbished</td>\n",
       "      <td>NaN</td>\n",
       "      <td>NaN</td>\n",
       "      <td>Hermann-Henrich-Meier-Allee</td>\n",
       "      <td>Hermann-Henrich-Meier-Allee</td>\n",
       "      <td>False</td>\n",
       "      <td>5</td>\n",
       "      <td>apartment</td>\n",
       "      <td>28213</td>\n",
       "      <td>3.0</td>\n",
       "      <td>188.9</td>\n",
       "      <td>1.0</td>\n",
       "      <td>NaN</td>\n",
       "      <td>3</td>\n",
       "      <td>False</td>\n",
       "      <td>4</td>\n",
       "      <td>Bremen</td>\n",
       "      <td>Neu_Schwachhausen</td>\n",
       "      <td>Es handelt sich hier um ein saniertes Mehrfami...</td>\n",
       "      <td>Diese Wohnung wurde neu saniert und ist wie fo...</td>\n",
       "      <td>NaN</td>\n",
       "      <td>NaN</td>\n",
       "      <td>NaN</td>\n",
       "      <td>NaN</td>\n",
       "      <td>NaN</td>\n",
       "      <td>Feb20</td>\n",
       "    </tr>\n",
       "  </tbody>\n",
       "</table>\n",
       "</div>"
      ],
      "text/plain": [
       "                regio1  serviceCharge  ... electricityKwhPrice   date\n",
       "0  Nordrhein_Westfalen         245.00  ...                 NaN  May19\n",
       "1      Rheinland_Pfalz         134.00  ...                 NaN  May19\n",
       "2              Sachsen         255.00  ...                 NaN  Oct19\n",
       "3              Sachsen          58.15  ...                 NaN  May19\n",
       "4               Bremen         138.00  ...                 NaN  Feb20\n",
       "\n",
       "[5 rows x 49 columns]"
      ]
     },
     "execution_count": 155,
     "metadata": {},
     "output_type": "execute_result"
    }
   ],
   "source": [
    "df = pd.read_csv(\"immo_data.csv\")\n",
    "\n",
    "df.head()"
   ]
  },
  {
   "cell_type": "markdown",
   "metadata": {},
   "source": [
    "We have following columns: \n",
    "\n",
    "|Key|Value|\n",
    "|-|-|\n",
    "|regio1| The location of the house or flat |\n",
    "|serviceCharge| Monthly costs of electricity, internet|\n",
    "|heatingType| Type of heating|\n",
    "|telekomTvOffer| Is payed TV included if so which offer|\n",
    "|telekomHybridUploadSpeed| How fast is the hybrid inter upload speed|\n",
    "|newlyConst| Is the building newly constructed|\n",
    "|balcony| Does the object have a balcony|\n",
    "|picturecount| How many pictures were uploaded to the listing|\n",
    "|pricetrend| I could not find ta decription for that therefore i will not include it |\n",
    "|totalRent| Total rent (usually a sum of base rent, service charge and heating cost|\n",
    "|yearConstructed| construction year|\n",
    "|scoutId| immoscout Id| \n",
    "|noParkSpaces| number of parking spaces| \n",
    "|firingTypes| main energy sources, separated by colon| \n",
    "|hasKitchen| |\n",
    "|geo_bln| bundesland (state), same as regio1|\n",
    "|cellar|Is a cellar available|\n",
    "|yearConstructedRange| binned construction year, 1 to 9|\n",
    "|baseRent| base rent without electricity and heating|\n",
    "|houseNumber| house number as part of the address|\n",
    "|livingSpace| living space in sqm|\n",
    "|geo_krs| district, above ZIP code|\n",
    "|condition|condition of the flat|\n",
    "|interiorQual| interior quality|\n",
    "|petsAllowed| are pets allowed, can be yes, no or negotiable|\n",
    "|street| street name|\n",
    "|streetPlain| street name (plain, different formating)|\n",
    "|lift| is elevator available|\n",
    "|baseRentRange| binned base rent, 1 to 9|\n",
    "|typeOfFlat| type of flat|\n",
    "|geo_plz| ZIP code|\n",
    "|noRooms| number of rooms|\n",
    "|thermalChar| energy need in kWh/(m^2a), defines the energy efficiency class|\n",
    "|floor| which floor is the flat on|\n",
    "|numberOfFloors| number of floors in the building|\n",
    "|noRoomsRange| binned number of rooms, 1 to 5|\n",
    "|garden| has a garden|\n",
    "|livingSpaceRange| livingSpaceRange|\n",
    "|regio2| District or Kreis, same as geo krs|\n",
    "|regio3| City/town|\n",
    "|description| free text description of the object|\n",
    "|facilities| free text description about available facilities|\n",
    "|heatingCosts| monthly heating costs in €|\n",
    "|energyEfficiencyClass| energy efficiency class (based on binned thermalChar, deprecated since Feb 2020)|\n",
    "|lastRefurbish| year of last renovation|\n",
    "|electricityBasePrice| monthly base price for electricity in € (deprecated since Feb 2020)|\n",
    "|electricityKwhPrice| electricity price per kwh (deprecated since Feb 2020)|\n",
    "|date| time of scraping|"
   ]
  },
  {
   "cell_type": "code",
   "execution_count": 156,
   "metadata": {},
   "outputs": [
    {
     "data": {
      "text/plain": [
       "268850"
      ]
     },
     "execution_count": 156,
     "metadata": {},
     "output_type": "execute_result"
    }
   ],
   "source": [
    "\n",
    " df.shape[0]"
   ]
  },
  {
   "cell_type": "markdown",
   "metadata": {},
   "source": [
    "We have in total 268850 entires for each columns "
   ]
  },
  {
   "cell_type": "code",
   "execution_count": 157,
   "metadata": {},
   "outputs": [
    {
     "name": "stdout",
     "output_type": "stream",
     "text": [
      "<class 'pandas.core.frame.DataFrame'>\n",
      "RangeIndex: 268850 entries, 0 to 268849\n",
      "Data columns (total 49 columns):\n",
      " #   Column                    Non-Null Count   Dtype  \n",
      "---  ------                    --------------   -----  \n",
      " 0   regio1                    268850 non-null  object \n",
      " 1   serviceCharge             261941 non-null  float64\n",
      " 2   heatingType               223994 non-null  object \n",
      " 3   telekomTvOffer            236231 non-null  object \n",
      " 4   telekomHybridUploadSpeed  45020 non-null   float64\n",
      " 5   newlyConst                268850 non-null  bool   \n",
      " 6   balcony                   268850 non-null  bool   \n",
      " 7   picturecount              268850 non-null  int64  \n",
      " 8   pricetrend                267018 non-null  float64\n",
      " 9   telekomUploadSpeed        235492 non-null  float64\n",
      " 10  totalRent                 228333 non-null  float64\n",
      " 11  yearConstructed           211805 non-null  float64\n",
      " 12  scoutId                   268850 non-null  int64  \n",
      " 13  noParkSpaces              93052 non-null   float64\n",
      " 14  firingTypes               211886 non-null  object \n",
      " 15  hasKitchen                268850 non-null  bool   \n",
      " 16  geo_bln                   268850 non-null  object \n",
      " 17  cellar                    268850 non-null  bool   \n",
      " 18  yearConstructedRange      211805 non-null  float64\n",
      " 19  baseRent                  268850 non-null  float64\n",
      " 20  houseNumber               197832 non-null  object \n",
      " 21  livingSpace               268850 non-null  float64\n",
      " 22  geo_krs                   268850 non-null  object \n",
      " 23  condition                 200361 non-null  object \n",
      " 24  interiorQual              156185 non-null  object \n",
      " 25  petsAllowed               154277 non-null  object \n",
      " 26  street                    268850 non-null  object \n",
      " 27  streetPlain               197837 non-null  object \n",
      " 28  lift                      268850 non-null  bool   \n",
      " 29  baseRentRange             268850 non-null  int64  \n",
      " 30  typeOfFlat                232236 non-null  object \n",
      " 31  geo_plz                   268850 non-null  int64  \n",
      " 32  noRooms                   268850 non-null  float64\n",
      " 33  thermalChar               162344 non-null  float64\n",
      " 34  floor                     217541 non-null  float64\n",
      " 35  numberOfFloors            171118 non-null  float64\n",
      " 36  noRoomsRange              268850 non-null  int64  \n",
      " 37  garden                    268850 non-null  bool   \n",
      " 38  livingSpaceRange          268850 non-null  int64  \n",
      " 39  regio2                    268850 non-null  object \n",
      " 40  regio3                    268850 non-null  object \n",
      " 41  description               249103 non-null  object \n",
      " 42  facilities                215926 non-null  object \n",
      " 43  heatingCosts              85518 non-null   float64\n",
      " 44  energyEfficiencyClass     77787 non-null   object \n",
      " 45  lastRefurbish             80711 non-null   float64\n",
      " 46  electricityBasePrice      46846 non-null   float64\n",
      " 47  electricityKwhPrice       46846 non-null   float64\n",
      " 48  date                      268850 non-null  object \n",
      "dtypes: bool(6), float64(18), int64(6), object(19)\n",
      "memory usage: 89.7+ MB\n"
     ]
    }
   ],
   "source": [
    "df.info()"
   ]
  },
  {
   "cell_type": "markdown",
   "metadata": {},
   "source": [
    "We have several columns which have missing data such as heatingType (223994), totalRent(228333)             \n",
    "\n",
    "## Which columns do we need ? \n",
    "\n",
    "For analyzing if the area effects the rental prices we need follwoing columns: \n",
    "\n",
    "1. totalRent and baseRent\n",
    "2. geo_bln,regio2 \n",
    "3. livingSpace, picturecount, yearConstructed, noRooms to see how it correlates with the rent\n",
    "\n"
   ]
  },
  {
   "cell_type": "code",
   "execution_count": 158,
   "metadata": {},
   "outputs": [],
   "source": [
    "df_prices = df[['totalRent', 'baseRent',  'geo_bln', 'date', 'scoutId', 'livingSpace', 'picturecount', 'yearConstructed',  'noRooms', 'regio2']]\n"
   ]
  },
  {
   "cell_type": "code",
   "execution_count": 159,
   "metadata": {},
   "outputs": [
    {
     "name": "stdout",
     "output_type": "stream",
     "text": [
      "<class 'pandas.core.frame.DataFrame'>\n",
      "RangeIndex: 268850 entries, 0 to 268849\n",
      "Data columns (total 10 columns):\n",
      " #   Column           Non-Null Count   Dtype  \n",
      "---  ------           --------------   -----  \n",
      " 0   totalRent        228333 non-null  float64\n",
      " 1   baseRent         268850 non-null  float64\n",
      " 2   geo_bln          268850 non-null  object \n",
      " 3   date             268850 non-null  object \n",
      " 4   scoutId          268850 non-null  int64  \n",
      " 5   livingSpace      268850 non-null  float64\n",
      " 6   picturecount     268850 non-null  int64  \n",
      " 7   yearConstructed  211805 non-null  float64\n",
      " 8   noRooms          268850 non-null  float64\n",
      " 9   regio2           268850 non-null  object \n",
      "dtypes: float64(5), int64(2), object(3)\n",
      "memory usage: 20.5+ MB\n"
     ]
    }
   ],
   "source": [
    "df_prices.info()"
   ]
  },
  {
   "cell_type": "markdown",
   "metadata": {},
   "source": [
    "## Clean up the data\n"
   ]
  },
  {
   "cell_type": "code",
   "execution_count": 160,
   "metadata": {},
   "outputs": [
    {
     "data": {
      "text/plain": [
       "(268850, 10)"
      ]
     },
     "execution_count": 160,
     "metadata": {},
     "output_type": "execute_result"
    }
   ],
   "source": [
    "df_prices.shape"
   ]
  },
  {
   "cell_type": "markdown",
   "metadata": {},
   "source": [
    "streetplain seems to have missing columns. Since this is just another version of the street the column will be dropped. "
   ]
  },
  {
   "cell_type": "code",
   "execution_count": 161,
   "metadata": {},
   "outputs": [
    {
     "name": "stdout",
     "output_type": "stream",
     "text": [
      "<class 'pandas.core.frame.DataFrame'>\n",
      "RangeIndex: 268850 entries, 0 to 268849\n",
      "Data columns (total 10 columns):\n",
      " #   Column           Non-Null Count   Dtype  \n",
      "---  ------           --------------   -----  \n",
      " 0   totalRent        228333 non-null  float64\n",
      " 1   baseRent         268850 non-null  float64\n",
      " 2   geo_bln          268850 non-null  object \n",
      " 3   date             268850 non-null  object \n",
      " 4   scoutId          268850 non-null  int64  \n",
      " 5   livingSpace      268850 non-null  float64\n",
      " 6   picturecount     268850 non-null  int64  \n",
      " 7   yearConstructed  211805 non-null  float64\n",
      " 8   noRooms          268850 non-null  float64\n",
      " 9   regio2           268850 non-null  object \n",
      "dtypes: float64(5), int64(2), object(3)\n",
      "memory usage: 20.5+ MB\n"
     ]
    }
   ],
   "source": [
    "\n",
    "df_rental = df_prices.copy()\n",
    "\n",
    "df_rental.info()"
   ]
  },
  {
   "cell_type": "code",
   "execution_count": 162,
   "metadata": {},
   "outputs": [
    {
     "data": {
      "text/plain": [
       "236"
      ]
     },
     "execution_count": 162,
     "metadata": {},
     "output_type": "execute_result"
    }
   ],
   "source": [
    "get_number_of_zero_values(df_rental.totalRent)"
   ]
  },
  {
   "cell_type": "markdown",
   "metadata": {},
   "source": [
    "Apparently some total rentvalues are goven as 0 or 0.0 same seems to ve valid for baseRent:"
   ]
  },
  {
   "cell_type": "code",
   "execution_count": 163,
   "metadata": {},
   "outputs": [
    {
     "data": {
      "text/plain": [
       "89"
      ]
     },
     "execution_count": 163,
     "metadata": {},
     "output_type": "execute_result"
    }
   ],
   "source": [
    "get_number_of_zero_values(df_rental.baseRent)\n"
   ]
  },
  {
   "cell_type": "markdown",
   "metadata": {},
   "source": [
    "Let's drop the total rent column since we have much more msissing values there. And maybe they can be recreated. But for now lt's only look at the base rent "
   ]
  },
  {
   "cell_type": "code",
   "execution_count": 164,
   "metadata": {},
   "outputs": [],
   "source": [
    "df_rental.replace(0.0, np.NAN, inplace=True)\n",
    "df_rental.drop(columns='totalRent', inplace=True)\n",
    "\n",
    "\n"
   ]
  },
  {
   "cell_type": "markdown",
   "metadata": {},
   "source": [
    "We will drop the row where total rent is nan and to be predicted and exclud rents higher than 50000€. Since i assume a rent greater than 50000€ to be unrealistic and to be test or fake record on immoscout24."
   ]
  },
  {
   "cell_type": "code",
   "execution_count": 165,
   "metadata": {},
   "outputs": [],
   "source": [
    "df_rental_cleaned =df_rental.dropna(subset=['baseRent'])\n",
    "\n",
    "df_rental_cleaned =df_rental_cleaned[df_rental_cleaned.baseRent<50000] \n"
   ]
  },
  {
   "cell_type": "markdown",
   "metadata": {},
   "source": [
    "Now we have cleand the dataset and only columns to predict with values inside.\n",
    "Let's extract columns by the time frame"
   ]
  },
  {
   "cell_type": "code",
   "execution_count": 166,
   "metadata": {},
   "outputs": [
    {
     "data": {
      "text/plain": [
       "<AxesSubplot:title={'center':'Rent over time'}, xlabel='Date', ylabel='Rent in €'>"
      ]
     },
     "execution_count": 166,
     "metadata": {},
     "output_type": "execute_result"
    },
    {
     "data": {
      "image/png": "[encoded data removed]",
      "text/plain": [
       "<Figure size 432x288 with 1 Axes>"
      ]
     },
     "metadata": {
      "needs_background": "light"
     },
     "output_type": "display_data"
    }
   ],
   "source": [
    "\n",
    "\n",
    "df_mean_base_rent=df_rental_cleaned[['baseRent','date']].groupby(by='date').mean()\n",
    "\n",
    "custom_order ={'Sep18':0, 'May19':1, 'Oct19':2, 'Feb20':3}\n",
    "df_mean_base_rent=df_mean_base_rent.sort_values(by=['date'], key=lambda x: x.map(custom_order), ascending=True)\n",
    "\n",
    "\n",
    "df_mean_base_rent.plot(kind='bar', title= 'Rent over time',xlabel='Date', ylabel='Rent in €', ylim=(600,700))\n",
    "\n"
   ]
  },
  {
   "cell_type": "markdown",
   "metadata": {},
   "source": [
    "It seems like rent tend to raise towars the end of the year"
   ]
  },
  {
   "cell_type": "code",
   "execution_count": 167,
   "metadata": {},
   "outputs": [
    {
     "data": {
      "text/plain": [
       "<AxesSubplot:title={'center':'Rent over time'}, xlabel='Date', ylabel='Rent in €'>"
      ]
     },
     "execution_count": 167,
     "metadata": {},
     "output_type": "execute_result"
    },
    {
     "data": {
      "image/png": "[encoded data removed]",
      "text/plain": [
       "<Figure size 432x288 with 1 Axes>"
      ]
     },
     "metadata": {
      "needs_background": "light"
     },
     "output_type": "display_data"
    }
   ],
   "source": [
    "df_mean_base_rent=df_rental_cleaned[['baseRent','date']].groupby(by='date').median()\n",
    "custom_order ={'Sep18':0, 'May19':1, 'Oct19':2, 'Feb20':3}\n",
    "df_mean_base_rent=df_mean_base_rent.sort_values(by=['date'], key=lambda x: x.map(custom_order), ascending=True)\n",
    "\n",
    "\n",
    "df_mean_base_rent.plot(kind='bar', title= 'Rent over time',xlabel='Date', ylabel='Rent in €',ylim=(400,600) )\n"
   ]
  },
  {
   "cell_type": "markdown",
   "metadata": {},
   "source": [
    "Having a look at the median rent it seems to rais over time. \n",
    "\n",
    "Lets have alook at if the region has an influence on the base rent."
   ]
  },
  {
   "cell_type": "code",
   "execution_count": 168,
   "metadata": {},
   "outputs": [
    {
     "data": {
      "text/html": [
       "<div>\n",
       "<style scoped>\n",
       "    .dataframe tbody tr th:only-of-type {\n",
       "        vertical-align: middle;\n",
       "    }\n",
       "\n",
       "    .dataframe tbody tr th {\n",
       "        vertical-align: top;\n",
       "    }\n",
       "\n",
       "    .dataframe thead th {\n",
       "        text-align: right;\n",
       "    }\n",
       "</style>\n",
       "<table border=\"1\" class=\"dataframe\">\n",
       "  <thead>\n",
       "    <tr style=\"text-align: right;\">\n",
       "      <th></th>\n",
       "      <th>baseRent</th>\n",
       "    </tr>\n",
       "    <tr>\n",
       "      <th>geo_bln</th>\n",
       "      <th></th>\n",
       "    </tr>\n",
       "  </thead>\n",
       "  <tbody>\n",
       "    <tr>\n",
       "      <th>Sachsen_Anhalt</th>\n",
       "      <td>369.170101</td>\n",
       "    </tr>\n",
       "    <tr>\n",
       "      <th>Thüringen</th>\n",
       "      <td>388.390176</td>\n",
       "    </tr>\n",
       "    <tr>\n",
       "      <th>Mecklenburg_Vorpommern</th>\n",
       "      <td>419.855726</td>\n",
       "    </tr>\n",
       "    <tr>\n",
       "      <th>Sachsen</th>\n",
       "      <td>438.193380</td>\n",
       "    </tr>\n",
       "    <tr>\n",
       "      <th>Brandenburg</th>\n",
       "      <td>511.723671</td>\n",
       "    </tr>\n",
       "    <tr>\n",
       "      <th>Saarland</th>\n",
       "      <td>582.502876</td>\n",
       "    </tr>\n",
       "    <tr>\n",
       "      <th>Nordrhein_Westfalen</th>\n",
       "      <td>599.852331</td>\n",
       "    </tr>\n",
       "    <tr>\n",
       "      <th>Niedersachsen</th>\n",
       "      <td>599.903172</td>\n",
       "    </tr>\n",
       "    <tr>\n",
       "      <th>Bremen</th>\n",
       "      <td>623.018671</td>\n",
       "    </tr>\n",
       "    <tr>\n",
       "      <th>Schleswig_Holstein</th>\n",
       "      <td>645.513113</td>\n",
       "    </tr>\n",
       "    <tr>\n",
       "      <th>Rheinland_Pfalz</th>\n",
       "      <td>682.418134</td>\n",
       "    </tr>\n",
       "    <tr>\n",
       "      <th>Baden_Württemberg</th>\n",
       "      <td>952.519754</td>\n",
       "    </tr>\n",
       "    <tr>\n",
       "      <th>Hessen</th>\n",
       "      <td>976.760786</td>\n",
       "    </tr>\n",
       "    <tr>\n",
       "      <th>Bayern</th>\n",
       "      <td>1017.908185</td>\n",
       "    </tr>\n",
       "    <tr>\n",
       "      <th>Berlin</th>\n",
       "      <td>1165.423456</td>\n",
       "    </tr>\n",
       "    <tr>\n",
       "      <th>Hamburg</th>\n",
       "      <td>1185.550048</td>\n",
       "    </tr>\n",
       "  </tbody>\n",
       "</table>\n",
       "</div>"
      ],
      "text/plain": [
       "                           baseRent\n",
       "geo_bln                            \n",
       "Sachsen_Anhalt           369.170101\n",
       "Thüringen                388.390176\n",
       "Mecklenburg_Vorpommern   419.855726\n",
       "Sachsen                  438.193380\n",
       "Brandenburg              511.723671\n",
       "Saarland                 582.502876\n",
       "Nordrhein_Westfalen      599.852331\n",
       "Niedersachsen            599.903172\n",
       "Bremen                   623.018671\n",
       "Schleswig_Holstein       645.513113\n",
       "Rheinland_Pfalz          682.418134\n",
       "Baden_Württemberg        952.519754\n",
       "Hessen                   976.760786\n",
       "Bayern                  1017.908185\n",
       "Berlin                  1165.423456\n",
       "Hamburg                 1185.550048"
      ]
     },
     "execution_count": 168,
     "metadata": {},
     "output_type": "execute_result"
    }
   ],
   "source": [
    "df_rental_cleaned[['geo_bln', 'baseRent']].groupby(by='geo_bln').mean().sort_values(by='baseRent')"
   ]
  },
  {
   "cell_type": "code",
   "execution_count": null,
   "metadata": {},
   "outputs": [],
   "source": []
  },
  {
   "cell_type": "markdown",
   "metadata": {},
   "source": [
    "Let's check on how other parameters influence the base rent"
   ]
  },
  {
   "cell_type": "code",
   "execution_count": 169,
   "metadata": {},
   "outputs": [
    {
     "name": "stdout",
     "output_type": "stream",
     "text": [
      "<class 'pandas.core.frame.DataFrame'>\n",
      "Int64Index: 268756 entries, 0 to 268849\n",
      "Data columns (total 7 columns):\n",
      " #   Column           Non-Null Count   Dtype  \n",
      "---  ------           --------------   -----  \n",
      " 0   baseRent         268756 non-null  float64\n",
      " 1   geo_bln          268756 non-null  object \n",
      " 2   livingSpace      268692 non-null  float64\n",
      " 3   picturecount     263788 non-null  float64\n",
      " 4   yearConstructed  211747 non-null  float64\n",
      " 5   noRooms          268756 non-null  float64\n",
      " 6   regio2           268756 non-null  object \n",
      "dtypes: float64(5), object(2)\n",
      "memory usage: 16.4+ MB\n"
     ]
    }
   ],
   "source": [
    "df_prices_predict = df_rental_cleaned[['baseRent','geo_bln', 'livingSpace', 'picturecount', 'yearConstructed', 'noRooms', 'regio2']]\n",
    "df_prices_predict.info()"
   ]
  },
  {
   "cell_type": "code",
   "execution_count": 170,
   "metadata": {},
   "outputs": [
    {
     "data": {
      "text/plain": [
       "0"
      ]
     },
     "execution_count": 170,
     "metadata": {},
     "output_type": "execute_result"
    }
   ],
   "source": [
    "df_prices_predict.noRooms.size-np.count_nonzero(df_prices_predict.noRooms)"
   ]
  },
  {
   "cell_type": "code",
   "execution_count": 171,
   "metadata": {},
   "outputs": [
    {
     "data": {
      "text/plain": [
       "<AxesSubplot:>"
      ]
     },
     "execution_count": 171,
     "metadata": {},
     "output_type": "execute_result"
    },
    {
     "data": {
      "image/png": "[encoded data removed]",
      "text/plain": [
       "<Figure size 432x288 with 2 Axes>"
      ]
     },
     "metadata": {
      "needs_background": "light"
     },
     "output_type": "display_data"
    }
   ],
   "source": [
    "sns.heatmap(df_prices_predict.corr(), annot=True, fmt=\".2f\")"
   ]
  },
  {
   "cell_type": "markdown",
   "metadata": {},
   "source": [
    "Interestlingly we have the highest correlation with picture count and base rent as well as balcony. let's see if this is different for different areas. "
   ]
  },
  {
   "cell_type": "code",
   "execution_count": 172,
   "metadata": {},
   "outputs": [
    {
     "data": {
      "text/plain": [
       "<AxesSubplot:>"
      ]
     },
     "execution_count": 172,
     "metadata": {},
     "output_type": "execute_result"
    },
    {
     "data": {
      "image/png": "[encoded data removed]",
      "text/plain": [
       "<Figure size 432x288 with 2 Axes>"
      ]
     },
     "metadata": {
      "needs_background": "light"
     },
     "output_type": "display_data"
    }
   ],
   "source": [
    "df_hamburg = get_city_or_region(df_prices_predict,'Hamburg' )\n",
    "sns.heatmap(df_hamburg.corr(), annot=True, fmt=\".2f\")"
   ]
  },
  {
   "cell_type": "code",
   "execution_count": 173,
   "metadata": {},
   "outputs": [
    {
     "data": {
      "text/plain": [
       "<AxesSubplot:>"
      ]
     },
     "execution_count": 173,
     "metadata": {},
     "output_type": "execute_result"
    },
    {
     "data": {
      "image/png": "[encoded data removed]",
      "text/plain": [
       "<Figure size 432x288 with 2 Axes>"
      ]
     },
     "metadata": {
      "needs_background": "light"
     },
     "output_type": "display_data"
    }
   ],
   "source": [
    "df_Berlin = get_city_or_region(df_prices_predict,'Berlin')\n",
    "sns.heatmap(df_Berlin.corr(), annot=True, fmt=\".2f\")"
   ]
  },
  {
   "cell_type": "code",
   "execution_count": 180,
   "metadata": {},
   "outputs": [
    {
     "data": {
      "text/plain": [
       "<AxesSubplot:>"
      ]
     },
     "execution_count": 180,
     "metadata": {},
     "output_type": "execute_result"
    },
    {
     "data": {
      "image/png": "[encoded data removed]",
      "text/plain": [
       "<Figure size 432x288 with 2 Axes>"
      ]
     },
     "metadata": {
      "needs_background": "light"
     },
     "output_type": "display_data"
    }
   ],
   "source": [
    "df_munich =df_prices_predict[df_prices_predict.regio2 == 'München']\n",
    "sns.heatmap(df_munich.corr(), annot=True, fmt=\".2f\")"
   ]
  },
  {
   "cell_type": "markdown",
   "metadata": {},
   "source": [
    "Interstlingly there is no strong correlytion between Munich and livingspace whatsoever the number of rooms seem to have an impact"
   ]
  },
  {
   "cell_type": "code",
   "execution_count": 175,
   "metadata": {},
   "outputs": [
    {
     "data": {
      "text/plain": [
       "<AxesSubplot:>"
      ]
     },
     "execution_count": 175,
     "metadata": {},
     "output_type": "execute_result"
    },
    {
     "data": {
      "image/png": "[encoded data removed]",
      "text/plain": [
       "<Figure size 432x288 with 2 Axes>"
      ]
     },
     "metadata": {
      "needs_background": "light"
     },
     "output_type": "display_data"
    }
   ],
   "source": [
    "df_bayern = get_city_or_region(df_prices_predict,'Bayern')\n",
    "sns.heatmap(df_bayern.corr(), annot=True, fmt=\".2f\")"
   ]
  },
  {
   "cell_type": "code",
   "execution_count": 176,
   "metadata": {},
   "outputs": [
    {
     "data": {
      "text/plain": [
       "<AxesSubplot:>"
      ]
     },
     "execution_count": 176,
     "metadata": {},
     "output_type": "execute_result"
    },
    {
     "data": {
      "image/png": "[encoded data removed]",
      "text/plain": [
       "<Figure size 432x288 with 2 Axes>"
      ]
     },
     "metadata": {
      "needs_background": "light"
     },
     "output_type": "display_data"
    }
   ],
   "source": [
    "df_bayern_without_munich = df_bayern[df_bayern.regio2 !='München']\n",
    "sns.heatmap(df_bayern_without_munich.corr(), annot=True, fmt=\".2f\")"
   ]
  },
  {
   "cell_type": "markdown",
   "metadata": {},
   "source": []
  }
 ],
 "metadata": {
  "kernelspec": {
   "display_name": "Python 3.9.0 64-bit",
   "language": "python",
   "name": "python3"
  },
  "language_info": {
   "codemirror_mode": {
    "name": "ipython",
    "version": 3
   },
   "file_extension": ".py",
   "mimetype": "text/x-python",
   "name": "python",
   "nbconvert_exporter": "python",
   "pygments_lexer": "ipython3",
   "version": "3.9.0"
  },
  "orig_nbformat": 4,
  "vscode": {
   "interpreter": {
    "hash": "11938c6bc6919ae2720b4d5011047913343b08a43b18698fd82dedb0d4417594"
   }
  }
 },
 "nbformat": 4,
 "nbformat_minor": 2
}
